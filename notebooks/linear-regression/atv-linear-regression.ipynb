{
 "cells": [
  {
   "cell_type": "markdown",
   "id": "847b6ce0-060c-4faa-beca-18892b198458",
   "metadata": {},
   "source": [
    "# This notebook implements linear regression for a machine learning exercise."
   ]
  },
  {
   "cell_type": "code",
   "execution_count": null,
   "id": "7817c22e-1a70-4a7b-bae7-c7eaa8b9fb52",
   "metadata": {},
   "outputs": [],
   "source": [
    "# Import libraries\n",
    "import numpy as np\n",
    "import matplotlib.pyplot as plt"
   ]
  },
  {
   "cell_type": "markdown",
   "id": "af1e1ea0-c997-4744-a290-c1a6e52d2c75",
   "metadata": {},
   "source": [
    "# Warm-Up Exercise\n",
    "# A simple function to return a 5x5 identity matrix."
   ]
  },
  {
   "cell_type": "code",
   "execution_count": null,
   "id": "9b7f5244-9c72-436d-842f-4b0937e12907",
   "metadata": {},
   "outputs": [],
   "source": [
    "def warmUpExercise():\n",
    "    #TODO: implement this part of code\n",
    "\n",
    "# Test warmUpExercise\n",
    "print(\"Running warmUpExercise...\")\n",
    "print(\"5x5 Identity Matrix:\")\n",
    "print(warmUpExercise())"
   ]
  },
  {
   "cell_type": "markdown",
   "id": "1058fcc4-a694-4374-aed8-4d7d1f8400df",
   "metadata": {},
   "source": [
    "# Loading and plotting data\n",
    "# Load and visualize data from ex1data1.txt"
   ]
  },
  {
   "cell_type": "code",
   "execution_count": null,
   "id": "cf408960-0be0-48dd-ae09-2d9a24aa295b",
   "metadata": {},
   "outputs": [],
   "source": [
    "# Load data\n",
    "data = np.loadtxt('data/ex1data1.txt', delimiter=',')\n",
    "X = data[:, 0]  # Population size in 10,000s\n",
    "y = data[:, 1]  # Profit in $10,000s\n",
    "m = len(y)  # Number of training examples"
   ]
  },
  {
   "cell_type": "markdown",
   "id": "113e0d18-42eb-4444-811c-2c845bf10ad6",
   "metadata": {},
   "source": [
    "# Plotting data\n",
    "# Function to plot the data points."
   ]
  },
  {
   "cell_type": "code",
   "execution_count": null,
   "id": "2835f7d0-b0c1-4267-8db4-0e970066fc3a",
   "metadata": {},
   "outputs": [],
   "source": [
    "def plotData(X, y):\n",
    "    plt.scatter(X, y, marker='x', c='r')\n",
    "    plt.xlabel('Population size in 10,000s')\n",
    "    plt.ylabel('Profit in $10,000s')\n",
    "    plt.title('Profit vs Population')\n",
    "    plt.show()\n",
    "\n",
    "# Plot data\n",
    "plotData(X, y)"
   ]
  },
  {
   "cell_type": "markdown",
   "id": "7596c6df-5442-4fe6-bcda-41f811f81231",
   "metadata": {},
   "source": [
    "# Cost function and gradient descent\n",
    "# Implementing cost function and gradient descent."
   ]
  },
  {
   "cell_type": "code",
   "execution_count": null,
   "id": "0ba78369-9b9b-4e11-8747-953516f3e56d",
   "metadata": {},
   "outputs": [],
   "source": [
    "# Compute cost\n",
    "def computeCost(X, y, theta):\n",
    "    #TODO: implement this part of code\n",
    "    return \n",
    "\n",
    "# Gradient descent\n",
    "def gradientDescent(X, y, theta, alpha, iterations):\n",
    "    #TODO: implement this part of code\n",
    "    return \n"
   ]
  },
  {
   "cell_type": "markdown",
   "id": "f4ab6cfb-c192-43ec-9058-aa4b9c305652",
   "metadata": {},
   "source": [
    "# Prepare data for linear regression"
   ]
  },
  {
   "cell_type": "code",
   "execution_count": null,
   "id": "136714a9-0f53-439e-a0fc-ebe195bce881",
   "metadata": {},
   "outputs": [],
   "source": [
    "X_with_intercept = np.column_stack((np.ones(m), X))\n",
    "theta = np.zeros(2)  # Initialize fitting parameters\n",
    "iterations = 1500\n",
    "alpha = 0.01"
   ]
  },
  {
   "cell_type": "code",
   "execution_count": null,
   "id": "11646d4a-2451-46b9-bbea-50c879cca41a",
   "metadata": {},
   "outputs": [],
   "source": [
    "# Test cost function\n",
    "print(\"\\nTesting the cost function...\")\n",
    "J = computeCost(X_with_intercept, y, theta)\n",
    "print(f\"With theta = [0 ; 0]\\nCost computed = {J}\")\n",
    "print(\"Expected cost value (approx) 32.07\")"
   ]
  },
  {
   "cell_type": "code",
   "execution_count": null,
   "id": "bd646695-612a-42c8-ae64-06602167441a",
   "metadata": {},
   "outputs": [],
   "source": [
    "J = computeCost(X_with_intercept, y, np.array([-1, 2]))\n",
    "print(f\"With theta = [-1 ; 2]\\nCost computed = {J}\")\n",
    "print(\"Expected cost value (approx) 54.24\")"
   ]
  },
  {
   "cell_type": "code",
   "execution_count": null,
   "id": "ae1e8d47-dd3c-4b43-b583-b95925eb1a1c",
   "metadata": {},
   "outputs": [],
   "source": [
    "# Run gradient descent\n",
    "theta = gradientDescent(X_with_intercept, y, theta, alpha, iterations)\n",
    "print(\"Theta found by gradient descent:\")\n",
    "print(theta)\n",
    "print(\"Expected theta values (approx): [-3.6303, 1.1664]\")"
   ]
  },
  {
   "cell_type": "markdown",
   "id": "7184f43b-bdf1-4e34-a40d-14eaefbd96b8",
   "metadata": {},
   "source": [
    "# Plot linear fit"
   ]
  },
  {
   "cell_type": "code",
   "execution_count": null,
   "id": "024c6137-f3a2-4d1c-b01d-f1714c966910",
   "metadata": {},
   "outputs": [],
   "source": [
    "plt.scatter(X, y, marker='x', c='r', label='Training data')\n",
    "plt.plot(X, X_with_intercept @ theta, '-', label='Linear regression')\n",
    "plt.xlabel('Population size in 10,000s')\n",
    "plt.ylabel('Profit in $10,000s')\n",
    "plt.legend()\n",
    "plt.show()"
   ]
  },
  {
   "cell_type": "markdown",
   "id": "2f2eedfc-42cb-4d70-aa94-1dfbdc1271c1",
   "metadata": {},
   "source": [
    "# Predict values"
   ]
  },
  {
   "cell_type": "code",
   "execution_count": null,
   "id": "3419d232-2180-42c6-a681-e0d1fa2ab591",
   "metadata": {},
   "outputs": [],
   "source": [
    "predict1 = np.array([1, 3.5]) @ theta\n",
    "predict2 = np.array([1, 7]) @ theta\n",
    "print(f\"For population = 35,000, we predict a profit of {predict1 * 10000}\")\n",
    "print(f\"For population = 70,000, we predict a profit of {predict2 * 10000}\")"
   ]
  },
  {
   "cell_type": "markdown",
   "id": "aaf7a69e-e19e-4918-9f18-6237b816beb6",
   "metadata": {},
   "source": [
    "# Visualizing $J(\\theta_0, \\theta_1)$\n",
    "# Visualize the cost function to see how it changes with different values of theta."
   ]
  },
  {
   "cell_type": "code",
   "execution_count": null,
   "id": "cb8d9a87-ca0d-419e-adf5-37b5d110f9b5",
   "metadata": {},
   "outputs": [],
   "source": [
    "# Grid over which we will calculate J\n",
    "theta0_vals = np.linspace(-10, 10, 100)\n",
    "theta1_vals = np.linspace(-1, 4, 100)\n",
    "J_vals = np.zeros((len(theta0_vals), len(theta1_vals)))"
   ]
  },
  {
   "cell_type": "code",
   "execution_count": null,
   "id": "f58bfb6e-7bb8-495d-b4d1-1abbec7dc1ad",
   "metadata": {},
   "outputs": [],
   "source": [
    "# Compute cost for each combination of theta0 and theta1\n",
    "for i, theta0 in enumerate(theta0_vals):\n",
    "    for j, theta1 in enumerate(theta1_vals):\n",
    "        t = np.array([theta0, theta1])\n",
    "        J_vals[i, j] = computeCost(X_with_intercept, y, t)"
   ]
  },
  {
   "cell_type": "code",
   "execution_count": null,
   "id": "431103d0-5b23-44fe-b25e-0ed513a7a3ba",
   "metadata": {},
   "outputs": [],
   "source": [
    "# Surface plot\n",
    "J_vals = J_vals.T  # Transpose for correct orientation\n",
    "fig = plt.figure()\n",
    "ax = fig.add_subplot(111, projection='3d')\n",
    "T0, T1 = np.meshgrid(theta0_vals, theta1_vals)\n",
    "ax.plot_surface(T0, T1, J_vals, cmap='viridis')\n",
    "ax.set_xlabel('theta_0')\n",
    "ax.set_ylabel('theta_1')\n",
    "ax.set_zlabel('Cost J')\n",
    "plt.show()"
   ]
  },
  {
   "cell_type": "code",
   "execution_count": null,
   "id": "02b23868-b262-44bb-97e0-836bc221c533",
   "metadata": {},
   "outputs": [],
   "source": [
    "# Contour plot\n",
    "plt.contour(theta0_vals, theta1_vals, J_vals, levels=np.logspace(-2, 3, 20), cmap='viridis')\n",
    "plt.xlabel('theta_0')\n",
    "plt.ylabel('theta_1')\n",
    "plt.plot(theta[0], theta[1], 'rx', markersize=10, linewidth=2)\n",
    "plt.show()\n"
   ]
  },
  {
   "cell_type": "markdown",
   "id": "2a6cb4f9-2e44-49f4-b812-5a3f712ba3f5",
   "metadata": {},
   "source": [
    "# Initialization\n",
    "# Linear regression with multiple variables for predicting house prices."
   ]
  },
  {
   "cell_type": "code",
   "execution_count": 2,
   "id": "204ac199-6763-4309-b3d3-c21096f0e0a1",
   "metadata": {},
   "outputs": [],
   "source": [
    "# Import necessary libraries\n",
    "import numpy as np\n",
    "import matplotlib.pyplot as plt"
   ]
  },
  {
   "cell_type": "markdown",
   "id": "b2fe2efb-e699-4423-bdd5-b8b169b31c28",
   "metadata": {},
   "source": [
    "# Load and prepare data\n",
    "# Load data from ex1data2.txt"
   ]
  },
  {
   "cell_type": "code",
   "execution_count": 3,
   "id": "3dc4865e-e32e-4679-8fb7-81e46c0ca113",
   "metadata": {},
   "outputs": [
    {
     "name": "stdout",
     "output_type": "stream",
     "text": [
      "First 10 examples from the dataset:\n",
      "x = [2104, 3], y = 399900\n",
      "x = [1600, 3], y = 329900\n",
      "x = [2400, 3], y = 369000\n",
      "x = [1416, 2], y = 232000\n",
      "x = [3000, 4], y = 539900\n",
      "x = [1985, 4], y = 299900\n",
      "x = [1534, 3], y = 314900\n",
      "x = [1427, 3], y = 198999\n",
      "x = [1380, 3], y = 212000\n",
      "x = [1494, 3], y = 242500\n"
     ]
    }
   ],
   "source": [
    "# Load data\n",
    "data = np.loadtxt('data/ex1data2.txt', delimiter=',')\n",
    "X = data[:, :2]  # Features: size and number of bedrooms\n",
    "y = data[:, 2]   # Target: price\n",
    "m = len(y)       # Number of training examples\n",
    "\n",
    "# Display first 10 examples of the dataset\n",
    "print(\"First 10 examples from the dataset:\")\n",
    "for i in range(10):\n",
    "    print(f\"x = [{X[i, 0]:.0f}, {X[i, 1]:.0f}], y = {y[i]:.0f}\")"
   ]
  },
  {
   "cell_type": "code",
   "execution_count": 4,
   "id": "55cc554e-fe55-4973-96c4-4f7b027e2683",
   "metadata": {},
   "outputs": [
    {
     "name": "stdout",
     "output_type": "stream",
     "text": [
      "Normalizing Features...\n"
     ]
    }
   ],
   "source": [
    "# Normalize features\n",
    "def featureNormalize(X):\n",
    "    #TODO: implement this part of code\n",
    "    return \n",
    "\n",
    "print(\"Normalizing Features...\")\n",
    "X, mu, sigma = featureNormalize(X)"
   ]
  },
  {
   "cell_type": "code",
   "execution_count": 5,
   "id": "48c14339-3764-4062-ab6b-2c1a1eb0904f",
   "metadata": {},
   "outputs": [],
   "source": [
    "# Add intercept term to X\n",
    "X = np.column_stack((np.ones(m), X))"
   ]
  },
  {
   "cell_type": "markdown",
   "id": "a86c49f1-7b46-45fb-b0a2-5bd7ae090eb8",
   "metadata": {},
   "source": [
    "# Gradient Descent\n",
    "# Implementing gradient descent for multiple variables."
   ]
  },
  {
   "cell_type": "code",
   "execution_count": 6,
   "id": "6a707862-327e-448b-b90e-6ca7babedd45",
   "metadata": {},
   "outputs": [],
   "source": [
    "# Compute cost\n",
    "def computeCostMulti(X, y, theta):\n",
    "    #TODO: implement this part of code\n",
    "    return "
   ]
  },
  {
   "cell_type": "code",
   "execution_count": 7,
   "id": "ac1fcf84-80d7-43ae-b7a3-971f6ae46ffa",
   "metadata": {},
   "outputs": [],
   "source": [
    "# Gradient descent\n",
    "def gradientDescentMulti(X, y, theta, alpha, num_iters):\n",
    "    #TODO: implement this part of code\n",
    "    return\n"
   ]
  },
  {
   "cell_type": "code",
   "execution_count": 8,
   "id": "4988ba8b-557c-448f-915d-d11c75163e00",
   "metadata": {},
   "outputs": [
    {
     "name": "stdout",
     "output_type": "stream",
     "text": [
      "Running gradient descent...\n"
     ]
    }
   ],
   "source": [
    "# Running gradient descent\n",
    "alpha = 0.01\n",
    "num_iters = 800\n",
    "\n",
    "theta = np.zeros(X.shape[1])  # Initialize fitting parameters\n",
    "print(\"Running gradient descent...\")\n",
    "\n",
    "_, _ = gradientDescentMulti(X, y, theta, alpha, num_iters)\n"
   ]
  },
  {
   "cell_type": "code",
   "execution_count": 9,
   "id": "c706fe7c-a8af-458b-8ad2-5b24c7c73a6f",
   "metadata": {},
   "outputs": [
    {
     "data": {
      "image/png": "[encoded data removed]",
      "text/plain": [
       "<Figure size 640x480 with 1 Axes>"
      ]
     },
     "metadata": {},
     "output_type": "display_data"
    },
    {
     "name": "stdout",
     "output_type": "stream",
     "text": [
      "Theta computed from gradient descent:\n",
      "[340302.97100295 107744.19899198  -4875.11193358]\n"
     ]
    }
   ],
   "source": [
    "# Plot the convergence graph\n",
    "plt.plot(range(1, len(J_history) + 1), J_history, '-b', linewidth=2)\n",
    "plt.xlabel('Number of iterations')\n",
    "plt.ylabel('Cost J')\n",
    "plt.title('Convergence of Gradient Descent')\n",
    "plt.show()\n",
    "\n",
    "print(\"Theta computed from gradient descent:\")\n",
    "print(theta)"
   ]
  },
  {
   "cell_type": "code",
   "execution_count": 10,
   "id": "757a5c81-1005-470f-9182-3733d24cd43d",
   "metadata": {},
   "outputs": [
    {
     "name": "stdout",
     "output_type": "stream",
     "text": [
      "Predicted price of a 1650 sq-ft, 3 br house (using gradient descent): $ 293346.56\n",
      "Expected price (approx): 289314.62\n"
     ]
    }
   ],
   "source": [
    "# Predicting price for a house with 1650 sq-ft and 3 bedrooms\n",
    "normalized_features = (np.array([1650, 3]) - mu) / sigma\n",
    "normalized_features = np.insert(normalized_features, 0, 1)  # Add intercept term\n",
    "price = normalized_features @ theta\n",
    "\n",
    "print(f\"Predicted price of a 1650 sq-ft, 3 br house (using gradient descent): $ {price:.2f}\")\n",
    "print(f'Expected price (approx): 289314.62')\n"
   ]
  },
  {
   "cell_type": "markdown",
   "id": "21afa030-2395-41a9-9708-47131f15af72",
   "metadata": {},
   "source": [
    "## Optional: Selecting learning rates"
   ]
  },
  {
   "cell_type": "code",
   "execution_count": null,
   "id": "831a58fa-ff1c-4905-8d42-111031e00266",
   "metadata": {},
   "outputs": [],
   "source": [
    "# Running gradient descent\n",
    "alpha = 1.\n",
    "num_iters = 150\n",
    "\n",
    "theta = np.zeros(X.shape[1])  # Initialize fitting parameters\n",
    "\n",
    "theta, J_history = gradientDescentMulti(X, y, theta, alpha, num_iters)\n",
    "# Plot the convergence graph\n",
    "plt.plot(range(1, len(J_history) + 1), J_history, '-b', linewidth=2)\n",
    "plt.xlabel('Number of iterations')\n",
    "plt.ylabel('Cost J')\n",
    "plt.title('Convergence of Gradient Descent')\n",
    "plt.show()\n",
    "\n",
    "print(\"Theta computed from gradient descent:\")\n",
    "print(theta)\n",
    "print(f\"Predicted price of a 1650 sq-ft, 3 br house (using gradient descent): $ {price:.2f}\")"
   ]
  },
  {
   "cell_type": "code",
   "execution_count": null,
   "id": "050152ce-5c57-4bee-b71e-b086c6324243",
   "metadata": {},
   "outputs": [],
   "source": [
    "# Running gradient descent\n",
    "alpha = 0.3\n",
    "num_iters = 50\n",
    "\n",
    "theta = np.zeros(X.shape[1])  # Initialize fitting parameters\n",
    "\n",
    "theta, J_history = gradientDescentMulti(X, y, theta, alpha, num_iters)\n",
    "# Plot the convergence graph\n",
    "plt.plot(range(1, len(J_history) + 1), J_history, '-b', linewidth=2)\n",
    "plt.xlabel('Number of iterations')\n",
    "plt.ylabel('Cost J')\n",
    "plt.title('Convergence of Gradient Descent')\n",
    "plt.show()\n",
    "\n",
    "print(\"Theta computed from gradient descent:\")\n",
    "print(theta)"
   ]
  },
  {
   "cell_type": "code",
   "execution_count": null,
   "id": "e122743e-2272-4cb6-b4b3-4007ece8b5bd",
   "metadata": {},
   "outputs": [],
   "source": [
    "# Running gradient descent\n",
    "alpha = 0.1\n",
    "num_iters = 50\n",
    "\n",
    "theta = np.zeros(X.shape[1])  # Initialize fitting parameters\n",
    "\n",
    "theta, J_history = gradientDescentMulti(X, y, theta, alpha, num_iters)\n",
    "# Plot the convergence graph\n",
    "plt.plot(range(1, len(J_history) + 1), J_history, '-b', linewidth=2)\n",
    "plt.xlabel('Number of iterations')\n",
    "plt.ylabel('Cost J')\n",
    "plt.title('Convergence of Gradient Descent')\n",
    "plt.show()\n",
    "\n",
    "print(\"Theta computed from gradient descent:\")\n",
    "print(theta)"
   ]
  },
  {
   "cell_type": "code",
   "execution_count": null,
   "id": "d9789e91-376f-4088-91de-0a575023e4c6",
   "metadata": {},
   "outputs": [],
   "source": [
    "# Running gradient descent\n",
    "alpha = 0.03\n",
    "num_iters = 50\n",
    "\n",
    "theta = np.zeros(X.shape[1])  # Initialize fitting parameters\n",
    "\n",
    "theta, J_history = gradientDescentMulti(X, y, theta, alpha, num_iters)\n",
    "# Plot the convergence graph\n",
    "plt.plot(range(1, len(J_history) + 1), J_history, '-b', linewidth=2)\n",
    "plt.xlabel('Number of iterations')\n",
    "plt.ylabel('Cost J')\n",
    "plt.title('Convergence of Gradient Descent')\n",
    "plt.show()\n",
    "\n",
    "print(\"Theta computed from gradient descent:\")\n",
    "print(theta)"
   ]
  },
  {
   "cell_type": "markdown",
   "id": "100269d3-0b42-412c-85fe-4cae644ddb44",
   "metadata": {},
   "source": [
    "# Normal Equations\n",
    "# Solving the linear regression problem using normal equations."
   ]
  },
  {
   "cell_type": "code",
   "execution_count": null,
   "id": "f7af8af8-a977-4deb-90cc-5cff3605c410",
   "metadata": {},
   "outputs": [],
   "source": [
    "# Normal equations\n",
    "def normalEqn(X, y):\n",
    "    #TODO: implement this part of code\n",
    "    return\n",
    "\n",
    "print(\"Solving with normal equations...\")\n",
    "data = np.loadtxt('data/ex1data2.txt', delimiter=',')\n",
    "X = data[:, :2]\n",
    "y = data[:, 2]\n",
    "\n",
    "# Add intercept term to X\n",
    "X = np.column_stack((np.ones(len(y)), X))\n",
    "\n",
    "theta = normalEqn(X, y)\n",
    "\n",
    "print(\"Theta computed from the normal equations:\")\n",
    "print(theta)"
   ]
  },
  {
   "cell_type": "code",
   "execution_count": null,
   "id": "4c9cdfed-2073-4edb-99d0-fef6b8f079fa",
   "metadata": {},
   "outputs": [],
   "source": [
    "# Predicting price for a house with 1650 sq-ft and 3 bedrooms using normal equations\n",
    "price = np.array([1, 1650, 3]) @ theta\n",
    "print(f\"Predicted price of a 1650 sq-ft, 3 br house (using normal equations): $ {price:.2f}\")\n",
    "print(f'Expected price (approx): 293081.46')"
   ]
  },
  {
   "cell_type": "code",
   "execution_count": null,
   "id": "d0df5c99",
   "metadata": {},
   "outputs": [],
   "source": []
  }
 ],
 "metadata": {
  "kernelspec": {
   "display_name": "Python 3 (ipykernel)",
   "language": "python",
   "name": "python3"
  },
  "language_info": {
   "codemirror_mode": {
    "name": "ipython",
    "version": 3
   },
   "file_extension": ".py",
   "mimetype": "text/x-python",
   "name": "python",
   "nbconvert_exporter": "python",
   "pygments_lexer": "ipython3",
   "version": "3.13.3"
  }
 },
 "nbformat": 4,
 "nbformat_minor": 5
}
