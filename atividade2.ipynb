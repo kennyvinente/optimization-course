{
  "nbformat": 4,
  "nbformat_minor": 0,
  "metadata": {
    "colab": {
      "provenance": [],
      "authorship_tag": "ABX9TyP2QOF5vqYO4PqIqLTF7VHd",
      "include_colab_link": true
    },
    "kernelspec": {
      "name": "python3",
      "display_name": "Python 3"
    },
    "language_info": {
      "name": "python"
    }
  },
  "cells": [
    {
      "cell_type": "markdown",
      "metadata": {
        "id": "view-in-github",
        "colab_type": "text"
      },
      "source": [
        "<a href=\"https://colab.research.google.com/github/lucianoscampos91/optimization-course/blob/main/atividade2.ipynb\" target=\"_parent\"><img src=\"https://colab.research.google.com/assets/colab-badge.svg\" alt=\"Open In Colab\"/></a>"
      ]
    },
    {
      "cell_type": "code",
      "execution_count": null,
      "metadata": {
        "id": "hOzFEt4oDDHh"
      },
      "outputs": [],
      "source": [
        "def computeCost(X, y, theta):\n",
        "    m = len(y)\n",
        "    predictions = X @ theta\n",
        "    sq_errors = (predictions - y) ** 2\n",
        "    return (1 / (2 * m)) * np.sum(sq_errors)\n",
        "    return"
      ]
    },
    {
      "cell_type": "code",
      "source": [
        "def gradientDescent(X, y, theta, alpha, iterations):\n",
        "    m = len(y)\n",
        "    for _ in range(iterations):\n",
        "        theta -= (alpha / m) * (X.T @ (X @ theta - y))\n",
        "    return theta"
      ],
      "metadata": {
        "id": "Bn_ZXTpCDcHu"
      },
      "execution_count": null,
      "outputs": []
    }
  ]
}