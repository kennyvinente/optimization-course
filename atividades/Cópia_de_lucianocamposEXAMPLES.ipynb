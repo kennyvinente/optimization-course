{
  "nbformat": 4,
  "nbformat_minor": 0,
  "metadata": {
    "colab": {
      "provenance": []
    },
    "kernelspec": {
      "name": "python3",
      "display_name": "Python 3"
    },
    "language_info": {
      "name": "python"
    }
  },
  "cells": [
    {
      "cell_type": "markdown",
      "source": [
        "Questão 4"
      ],
      "metadata": {
        "id": "y1WFZO6fWLWG"
      }
    },
    {
      "cell_type": "code",
      "execution_count": null,
      "metadata": {
        "id": "D7XtzIk4Cld2"
      },
      "outputs": [],
      "source": [
        "import numpy as np\n",
        "def ex(x):\n",
        "    f = x[0]**2 + 2*x[0]*x[1] + x[1]**2\n",
        "    g = np.array([ 2*x[0] + 2*x[1] , 2 * x[0] - 2*x[1]])\n",
        "    h = np.array([[2 , 2*x[1]], [- 2, 2*x[0]]])\n",
        "    return f, g, h\n",
        "    x = np.array([1, 1])\n",
        "    f, g, h = ex(x)\n",
        "    print (f)\n",
        "    print (g)\n",
        "    print (h)"
      ]
    },
    {
      "cell_type": "markdown",
      "source": [
        "Questão 5"
      ],
      "metadata": {
        "id": "1pJ8xKEtWR6X"
      }
    },
    {
      "cell_type": "code",
      "source": [
        "import numpy as np\n",
        "import math\n",
        "e = math.e\n",
        "def ex(x):\n",
        "    f = x[0]**2 - x[0]*x[1] + 2*x[1]**2 + e**(x[0]+x[1])\n",
        "    g = np.array ([2*x[0] - x[1] + 2*x[1]**2 + e**(x[0]+x[1]) ,x[0]**2 - x[0] + 4*x[1] + e**(x[0]+x[1])])\n",
        "    h = None\n",
        "    x = np.array([0, 0])\n",
        "    f, g, h = ex(x)\n",
        "    return f, g, h\n",
        "    print (f)\n",
        "    print (g)\n",
        "    print (h)"
      ],
      "metadata": {
        "id": "O0hYjP7vFnWB"
      },
      "execution_count": null,
      "outputs": []
    }
  ]
}