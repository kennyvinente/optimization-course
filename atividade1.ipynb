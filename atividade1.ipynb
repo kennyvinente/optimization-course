{
  "nbformat": 4,
  "nbformat_minor": 0,
  "metadata": {
    "colab": {
      "provenance": [],
      "authorship_tag": "ABX9TyOJzHHSBesjV0rADidvpPfx",
      "include_colab_link": true
    },
    "kernelspec": {
      "name": "python3",
      "display_name": "Python 3"
    },
    "language_info": {
      "name": "python"
    }
  },
  "cells": [
    {
      "cell_type": "markdown",
      "metadata": {
        "id": "view-in-github",
        "colab_type": "text"
      },
      "source": [
        "<a href=\"https://colab.research.google.com/github/lucianoscampos91/optimization-course/blob/main/atividade1.ipynb\" target=\"_parent\"><img src=\"https://colab.research.google.com/assets/colab-badge.svg\" alt=\"Open In Colab\"/></a>"
      ]
    },
    {
      "cell_type": "code",
      "execution_count": 9,
      "metadata": {
        "id": "GYZ_x7SX9FxV"
      },
      "outputs": [],
      "source": [
        "#------------------------\n",
        "# Create functions\n",
        "#------------------------\n",
        "# Input into the fuctions is vector X, where X = (x,y)\n",
        "# Create the function we want to find the minimum of\n",
        "import numpy as np\n",
        "import pandas as pd\n",
        "import matplotlib.pyplot as plt\n",
        "def f(X):\n",
        "    f = X[0]**2 - 47* X[0] - X[1]**2 + 0.1 * X[1] + 2209 + 0.01\n",
        "    return f\n",
        "def gradf(X):\n",
        "    g = np.array ([2 * X[0] - 47, 2 * X[1] + 1])\n",
        "    return g"
      ]
    },
    {
      "cell_type": "code",
      "source": [],
      "metadata": {
        "id": "jiUo9qBmBgRp"
      },
      "execution_count": null,
      "outputs": []
    },
    {
      "cell_type": "code",
      "source": [
        "def f(X):\n",
        "    f = X[0]**2 - 47* X[0] - X[1]**2 + 0.1 * X[1] + 2209 + 0.01\n",
        "\n",
        "    return f\n",
        "    X[0] = 80\n",
        "    X[1] = 20\n",
        "    PRINT (X)\n",
        ""
      ],
      "metadata": {
        "id": "2PrvFhu1A7lu"
      },
      "execution_count": 1,
      "outputs": []
    },
    {
      "cell_type": "code",
      "source": [],
      "metadata": {
        "id": "qRF2_M_YA7gj"
      },
      "execution_count": null,
      "outputs": []
    },
    {
      "cell_type": "code",
      "source": [],
      "metadata": {
        "id": "s21TAgXbAlKT"
      },
      "execution_count": null,
      "outputs": []
    }
  ]
}